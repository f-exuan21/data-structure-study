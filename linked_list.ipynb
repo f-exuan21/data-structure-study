{
 "cells": [
  {
   "cell_type": "code",
   "execution_count": 1,
   "metadata": {},
   "outputs": [],
   "source": [
    "class Node:\n",
    "\tdef __init__(self, key=None):\n",
    "\t\tself.key = key\n",
    "\t\tself.next = None\n",
    "\t\n",
    "\tdef __str__(self): #print(node)하면 출력됨\n",
    "\t\treturn str(self.key)\n"
   ]
  },
  {
   "cell_type": "code",
   "execution_count": 2,
   "metadata": {},
   "outputs": [
    {
     "name": "stdout",
     "output_type": "stream",
     "text": [
      "3\n"
     ]
    }
   ],
   "source": [
    "a = Node(3)\n",
    "print(a)"
   ]
  },
  {
   "cell_type": "code",
   "execution_count": 3,
   "metadata": {},
   "outputs": [],
   "source": [
    "class SinglyLinkedList:\n",
    "\tdef __init__(self):\n",
    "\t\tself.head = None\n",
    "\t\tself.size = 0\n",
    "\n",
    "\tdef pushFront(self, key):\n",
    "\t\tnew_node = Node(key)\n",
    "\t\tnew_node.next = self.head\n",
    "\t\tself.head = new_node\n",
    "\t\tself.size += 1\n",
    "\t\n",
    "\tdef pushBack(self, key):\n",
    "\t\tnew_node = Node(key)\n",
    "\t\tif self.size == 0:\n",
    "\t\t\tself.head = new_node\n",
    "\t\telse:\n",
    "\t\t\ttail = self.head\n",
    "\t\t\twhile tail.next != None:\n",
    "\t\t\t\ttail = tail.next\n",
    "\t\t\ttail.next = new_node\n",
    "\t\tself.size += 1\n",
    "\n",
    "\tdef popFront(self):\n",
    "\t\tif self.size == 0:\n",
    "\t\t\treturn None\n",
    "\t\telse:\n",
    "\t\t\tx = self.head\n",
    "\t\t\tkey = x.key\n",
    "\t\t\tself.head = x.next\n",
    "\t\t\tself.size -= 1\n",
    "\t\t\tdel x # 메모리를 해제해준다.\n",
    "\t\t\treturn key\n",
    "\t\n",
    "\tdef popBack(self):\n",
    "\t\tif self.size == 0:\n",
    "\t\t\treturn None\n",
    "\t\telse:\n",
    "\t\t\tprev, tail = None, self.head\n",
    "\t\t\twhile tail.next != None:\n",
    "\t\t\t\tprev = tail\n",
    "\t\t\t\ttail = tail.next\n",
    "\t\t\tif prev == None: # self.size == 1\n",
    "\t\t\t\tself.head = None\n",
    "\t\t\telse:\n",
    "\t\t\t\tprev.next = None\n",
    "\t\t\tkey = tail.key\n",
    "\t\t\tdel tail\n",
    "\t\t\tself.size -= 1\n",
    "\t\t\treturn key\n",
    "\n",
    "\tdef search(self, key):\n",
    "\t\t# key값의 노드를 리턴, 없으면 None 리턴\n",
    "\t\tv = self.head\n",
    "\t\twhile v != None:\n",
    "\t\t\tif v.key == key:\n",
    "\t\t\t\treturn v\n",
    "\t\t\tv = v.next\n",
    "\t\treturn None\n",
    "\n",
    "\tdef __iter__(self):\n",
    "\t\tv = self.head\n",
    "\t\twhile v != None:\n",
    "\t\t\tyield v\n",
    "\t\t\tv = v.next\n",
    "\n",
    "\tdef __len__(self):\n",
    "\t\treturn self.size\n"
   ]
  },
  {
   "cell_type": "code",
   "execution_count": null,
   "metadata": {},
   "outputs": [],
   "source": []
  },
  {
   "cell_type": "code",
   "execution_count": null,
   "metadata": {},
   "outputs": [],
   "source": []
  }
 ],
 "metadata": {
  "interpreter": {
   "hash": "b9462065c57840b7782c4e300c462d9ecab3fd8522d405e1a2c04227d3310cf2"
  },
  "kernelspec": {
   "display_name": "Python 3.8.11 ('ds_study')",
   "language": "python",
   "name": "python3"
  },
  "language_info": {
   "codemirror_mode": {
    "name": "ipython",
    "version": 3
   },
   "file_extension": ".py",
   "mimetype": "text/x-python",
   "name": "python",
   "nbconvert_exporter": "python",
   "pygments_lexer": "ipython3",
   "version": "3.8.11"
  },
  "orig_nbformat": 4
 },
 "nbformat": 4,
 "nbformat_minor": 2
}
