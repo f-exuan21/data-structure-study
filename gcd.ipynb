{
 "cells": [
  {
   "cell_type": "code",
   "execution_count": 2,
   "metadata": {},
   "outputs": [],
   "source": [
    "# gcd(a, b)\n",
    "def gcd_sub(a, b):\n",
    "\twhile a != 0 and b != 0:\n",
    "\t\tif a > b:\n",
    "\t\t\ta = a - b\n",
    "\t\telse:\n",
    "\t\t\tb = b - a\n",
    "\treturn a + b # 둘 중 하나는 0이기 때문에 더해줘도 된다."
   ]
  },
  {
   "cell_type": "code",
   "execution_count": 3,
   "metadata": {},
   "outputs": [],
   "source": [
    "def gcd_mod(a, b):\n",
    "\twhile a != 0 and b != 0:\n",
    "\t\tif a > b:\n",
    "\t\t\ta = a % b\n",
    "\t\telse:\n",
    "\t\t\tb = b % a\n",
    "\treturn a + b"
   ]
  },
  {
   "cell_type": "code",
   "execution_count": 4,
   "metadata": {},
   "outputs": [],
   "source": [
    "def gcd_rev(a, b):\n",
    "\tif a == 0 or b == 0:\n",
    "\t\treturn a + b\n",
    "\tif a > b:\n",
    "\t\ta = a % b\n",
    "\telse:\n",
    "\t\tb = b % a\n",
    "\treturn gcd_rev(a, b)"
   ]
  },
  {
   "cell_type": "code",
   "execution_count": 5,
   "metadata": {},
   "outputs": [
    {
     "name": "stdout",
     "output_type": "stream",
     "text": [
      "3\n",
      "3\n",
      "3\n"
     ]
    }
   ],
   "source": [
    "print(gcd_sub(15, 27))\n",
    "print(gcd_mod(15, 27))\n",
    "print(gcd_rev(15, 27))"
   ]
  },
  {
   "cell_type": "code",
   "execution_count": null,
   "metadata": {},
   "outputs": [],
   "source": []
  }
 ],
 "metadata": {
  "interpreter": {
   "hash": "b9462065c57840b7782c4e300c462d9ecab3fd8522d405e1a2c04227d3310cf2"
  },
  "kernelspec": {
   "display_name": "Python 3.8.11 64-bit ('ds_study': conda)",
   "language": "python",
   "name": "python3"
  },
  "language_info": {
   "codemirror_mode": {
    "name": "ipython",
    "version": 3
   },
   "file_extension": ".py",
   "mimetype": "text/x-python",
   "name": "python",
   "nbconvert_exporter": "python",
   "pygments_lexer": "ipython3",
   "version": "3.8.11"
  },
  "orig_nbformat": 4
 },
 "nbformat": 4,
 "nbformat_minor": 2
}
