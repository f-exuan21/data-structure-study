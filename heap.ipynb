{
 "cells": [
  {
   "cell_type": "code",
   "execution_count": 27,
   "metadata": {},
   "outputs": [],
   "source": [
    "def make_heap(A):\n",
    "\tn = len(A)\n",
    "\tfor k in range((n-1), -1, -1):\n",
    "\t\tA = heapify_down(A, k, n)\n",
    "\treturn A\n",
    "\n",
    "def index_max(A, a, b, c):\n",
    "\tif A[a] > A[b]:\n",
    "\t\tif A[c] > A[a]:\n",
    "\t\t\treturn c\n",
    "\t\telse:\n",
    "\t\t\treturn a\n",
    "\telse:\n",
    "\t\tif A[c] > A[b]:\n",
    "\t\t\treturn c\n",
    "\t\telse:\n",
    "\t\t\treturn b\n",
    "\n",
    "def is_leaf_node(A, k):\n",
    "\tn = len(A)\n",
    "\tif k * 2 + 1 >= n:\n",
    "\t\treturn True\n",
    "\telse:\n",
    "\t\treturn False\n",
    "\n",
    "def heapify_down(A, k, n):\n",
    "\twhile not is_leaf_node(A, k):\n",
    "\t\tL, R = 2 * k + 1, 2 * k + 2\n",
    "\t\tm = index_max(A, k, L, R)\n",
    "\t\tif k != m:\n",
    "\t\t\tA[k] = A[m]\n",
    "\t\t\tk = m\n",
    "\t\telse:\n",
    "\t\t\tbreak\n",
    "\treturn A\n",
    "\n"
   ]
  },
  {
   "cell_type": "code",
   "execution_count": 30,
   "metadata": {},
   "outputs": [
    {
     "name": "stdout",
     "output_type": "stream",
     "text": [
      "[15, 12, 6, 11, 10, 2, 3, 1, 5]\n"
     ]
    }
   ],
   "source": [
    "A = [ 15, 12, 6, 11, 10, 2, 3, 1, 5 ]\n",
    "make_heap(A)\n",
    "print(A)"
   ]
  },
  {
   "cell_type": "code",
   "execution_count": null,
   "metadata": {},
   "outputs": [],
   "source": []
  },
  {
   "cell_type": "code",
   "execution_count": null,
   "metadata": {},
   "outputs": [],
   "source": []
  }
 ],
 "metadata": {
  "interpreter": {
   "hash": "b9462065c57840b7782c4e300c462d9ecab3fd8522d405e1a2c04227d3310cf2"
  },
  "kernelspec": {
   "display_name": "Python 3.8.11 ('ds_study')",
   "language": "python",
   "name": "python3"
  },
  "language_info": {
   "codemirror_mode": {
    "name": "ipython",
    "version": 3
   },
   "file_extension": ".py",
   "mimetype": "text/x-python",
   "name": "python",
   "nbconvert_exporter": "python",
   "pygments_lexer": "ipython3",
   "version": "3.8.11"
  },
  "orig_nbformat": 4
 },
 "nbformat": 4,
 "nbformat_minor": 2
}
