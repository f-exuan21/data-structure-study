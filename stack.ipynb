{
 "cells": [
  {
   "cell_type": "code",
   "execution_count": 3,
   "metadata": {},
   "outputs": [],
   "source": [
    "class Stack:\n",
    "\tdef __init__(self):\n",
    "\t\t\n",
    "\t\tself.items = []\n",
    "\t\n",
    "\tdef push(self, val):\n",
    "\t\tself.items.append(val)\n",
    "\t\n",
    "\tdef pop(self):\n",
    "\t\ttry:\n",
    "\t\t\treturn self.items.pop()\n",
    "\t\texcept IndexError:\n",
    "\t\t\tprint(\"Stack is empty\")\n",
    "\t\n",
    "\tdef top(self):\n",
    "\t\ttry:\n",
    "\t\t\treturn self.items[-1]\n",
    "\t\texcept IndexError:\n",
    "\t\t\tprint(\"Stack is emtpy\")\n",
    "\t\n",
    "\tdef __len__(self):\n",
    "\t\treturn len(self.items)"
   ]
  },
  {
   "cell_type": "code",
   "execution_count": 4,
   "metadata": {},
   "outputs": [],
   "source": [
    "def checkPar(parSeq):\n",
    "\ts = Stack()\n",
    "\tfor p in parSeq:\n",
    "\t\tif p == '(': \n",
    "\t\t\ts.push(p)\n",
    "\t\telif p == ')':\n",
    "\t\t\ttry: \n",
    "\t\t\t\ts.pop()\n",
    "\t\t\texcept IndexError:\n",
    "\t\t\t\treturn False\n",
    "\t\telse: \n",
    "\t\t\tprint(\"Not Allowed Symbol\")\n",
    "\n",
    "\tif len(s) > 0:\n",
    "\t\treturn False\n",
    "\telse:\n",
    "\t\treturn True"
   ]
  },
  {
   "cell_type": "code",
   "execution_count": 10,
   "metadata": {},
   "outputs": [
    {
     "name": "stdout",
     "output_type": "stream",
     "text": [
      "Stack is empty\n"
     ]
    },
    {
     "data": {
      "text/plain": [
       "True"
      ]
     },
     "execution_count": 10,
     "metadata": {},
     "output_type": "execute_result"
    }
   ],
   "source": [
    "checkPar(\"(()))\")"
   ]
  },
  {
   "cell_type": "code",
   "execution_count": 40,
   "metadata": {},
   "outputs": [],
   "source": [
    "# infix -> postfix\n",
    "def infix_to_postfix(expr):\n",
    "\toutstack = []\n",
    "\topstack = Stack()\n",
    "\tfor token in expr:\n",
    "\t\tif token.isdecimal():\n",
    "\t\t\toutstack.append(token)\n",
    "\t\telif token == '(':\n",
    "\t\t\topstack.push(token)\n",
    "\t\telif token == ')':\n",
    "\t\t\twhile opstack.top() != '(':\n",
    "\t\t\t\toutstack.append(opstack.pop())\n",
    "\t\t\topstack.pop()\n",
    "\t\telif token in \"-+*/\":\n",
    "\t\t\tif token in \"-+\":\n",
    "\t\t\t\twhile len(opstack) > 0 and opstack.top() in \"-+*/\":\n",
    "\t\t\t\t\toutstack.append(opstack.pop())\n",
    "\t\t\t\topstack.push(token)\n",
    "\t\t\telse:\n",
    "\t\t\t\twhile len(opstack) > 0 and opstack.top() in \"*/\":\n",
    "\t\t\t\t\toutstack.append(opstack.pop())\n",
    "\t\t\t\topstack.push(token)\n",
    "\twhile len(opstack) > 0:\n",
    "\t\toutstack.append(opstack.pop())\n",
    "\treturn outstack\n"
   ]
  },
  {
   "cell_type": "code",
   "execution_count": 41,
   "metadata": {},
   "outputs": [],
   "source": [
    "# postfix -> 계산\n",
    "def postfix_calculate(outstack):\n",
    "\ts = Stack()\n",
    "\twhile len(outstack) > 0:\n",
    "\t\ttoken = outstack.pop(0)\n",
    "\t\tif token.isdecimal():\n",
    "\t\t\ts.push(int(token))\n",
    "\t\telif token in \"+-*/\":\n",
    "\t\t\ta = s.pop()\n",
    "\t\t\tb = s.pop()\n",
    "\t\t\tif token == '+':\n",
    "\t\t\t\ts.push(a + b)\n",
    "\t\t\telif token == '-':\n",
    "\t\t\t\ts.push(b - a)\n",
    "\t\t\telif token == '*':\n",
    "\t\t\t\ts.push(a * b)\n",
    "\t\t\telif token == '/':\n",
    "\t\t\t\ts.push(a / b)\n",
    "\treturn s.pop()"
   ]
  },
  {
   "cell_type": "code",
   "execution_count": 43,
   "metadata": {},
   "outputs": [
    {
     "name": "stdout",
     "output_type": "stream",
     "text": [
      "11\n"
     ]
    }
   ],
   "source": [
    "postfix = infix_to_postfix(\"6+(3-2)*(4+1)\")\n",
    "print(postfix_calculate(postfix))"
   ]
  },
  {
   "cell_type": "code",
   "execution_count": null,
   "metadata": {},
   "outputs": [],
   "source": []
  }
 ],
 "metadata": {
  "interpreter": {
   "hash": "b9462065c57840b7782c4e300c462d9ecab3fd8522d405e1a2c04227d3310cf2"
  },
  "kernelspec": {
   "display_name": "Python 3.8.11 64-bit ('ds_study': conda)",
   "language": "python",
   "name": "python3"
  },
  "language_info": {
   "codemirror_mode": {
    "name": "ipython",
    "version": 3
   },
   "file_extension": ".py",
   "mimetype": "text/x-python",
   "name": "python",
   "nbconvert_exporter": "python",
   "pygments_lexer": "ipython3",
   "version": "3.8.11"
  },
  "orig_nbformat": 4
 },
 "nbformat": 4,
 "nbformat_minor": 2
}
