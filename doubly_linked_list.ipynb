{
 "cells": [
  {
   "cell_type": "code",
   "execution_count": 10,
   "metadata": {},
   "outputs": [],
   "source": [
    "class Node:\n",
    "\tdef __init__(self, key=None):\n",
    "\t\tself.key = key\n",
    "\t\tself.next = self\n",
    "\t\tself.prev = self\n",
    "\t\n",
    "\tdef __str__(self):\n",
    "\t\treturn str(self.key)"
   ]
  },
  {
   "cell_type": "code",
   "execution_count": 39,
   "metadata": {},
   "outputs": [],
   "source": [
    "class DoublyLinkedList:\n",
    "\tdef __init__(self):\n",
    "\t\tself.head = Node() #dummy Node\n",
    "\t\tself.size = 0\n",
    "\n",
    "\tdef __iter__(self):\n",
    "\t\tv = self.head.next\n",
    "\t\twhile v.key != None:\n",
    "\t\t\tyield v\n",
    "\t\t\tv = v.next\n",
    "\n",
    "\tdef __str__(self):\n",
    "\t\treturn \" -> \".join(str(n) for n in self)\n",
    "\t\n",
    "\tdef __len__(self):\n",
    "\t\treturn self.size\n",
    "\t\n",
    "\tdef splice(self, a, b, x):\n",
    "\t\tif a == None or b == None or x == None:\n",
    "\t\t\treturn\n",
    "\t\t\n",
    "\t\tap = a.prev\n",
    "\t\tbn = b.next\n",
    "\t\txn = x.next\n",
    "\n",
    "\t\t# cut [a..b]\n",
    "\t\tap.next = bn\n",
    "\t\tbn.prev = ap\n",
    "\n",
    "\t\t# insert [a..b] after x\n",
    "\t\tx.next = a\n",
    "\t\ta.prev = x\n",
    "\t\tb.next = xn\n",
    "\t\txn.prev = b\n",
    "\t\n",
    "\tdef moveAfter(self, a, x):\n",
    "\t\tself.splice(a, a, x)\n",
    "\t\n",
    "\tdef moveBefore(self, a, x):\n",
    "\t\tself.splice(a, a, x.prev)\n",
    "\t\n",
    "\tdef insertAfter(self, x, key):\n",
    "\t\tself.moveAfter(Node(key), x)\n",
    "\t\tself.size += 1\n",
    "\t\n",
    "\tdef insertBefore(self, x, key):\n",
    "\t\tself.moveBefore(Node(key), x)\n",
    "\t\tself.size += 1\n",
    "\t\n",
    "\tdef pushFront(self, key):\n",
    "\t\tself.insertAfter(self.head, key)\n",
    "\t\tself.size += 1\n",
    "\t\n",
    "\tdef pushBack(self, key):\n",
    "\t\tself.insertBefore(self.head, key)\n",
    "\t\tself.size += 1\n",
    "\n",
    "\tdef popFront(self):\n",
    "\t\tif self.size == 0:\n",
    "\t\t\treturn\n",
    "\t\tx = self.head.next\n",
    "\t\tself.head.next = x.next\n",
    "\t\tx.next.prev = self.head\n",
    "\t\tdel x\n",
    "\t\tself.size -= 1\n",
    "\n",
    "\tdef popBack(self):\n",
    "\t\tif self.size == 0:\n",
    "\t\t\treturn\n",
    "\t\tx = self.head.prev\n",
    "\t\tx.prev.next = self.head\n",
    "\t\tself.head.prev = x.prev\n",
    "\t\tdel x\n",
    "\t\tself.size -= 1\n",
    "\n",
    "\tdef search(self, key):\n",
    "\t\tv = self.head.next\n",
    "\t\twhile v.key != None:\n",
    "\t\t\tif v.key == key:\n",
    "\t\t\t\treturn v\n",
    "\t\t\tv = v.next\n",
    "\t\treturn None\n",
    "\t\n",
    "\tdef remove(self, x):\n",
    "\t\tif x == None or x == self.head:\n",
    "\t\t\treturn\n",
    "\t\tx.prev.next = x.next\n",
    "\t\tx.next.prev = x.prev\n",
    "\t\tdel x\n",
    "\t\tself.size -= 1\n",
    "\t\n",
    "\tdef isEmpty(self):\n",
    "\t\treturn self.size == 0\n",
    "\n",
    "\tdef first(self):\n",
    "\t\tif self.size > 0:\n",
    "\t\t\treturn self.head.next\n",
    "\t\treturn None\n",
    "\n",
    "\tdef last(self):\n",
    "\t\tif self.size > 0:\n",
    "\t\t\treturn self.head.prev\n",
    "\t\treturn None"
   ]
  },
  {
   "cell_type": "code",
   "execution_count": 41,
   "metadata": {},
   "outputs": [
    {
     "name": "stdout",
     "output_type": "stream",
     "text": [
      "4 2\n"
     ]
    }
   ],
   "source": [
    "d = DoublyLinkedList()\n",
    "d.pushBack(3)\n",
    "d.pushBack(4)\n",
    "d.pushBack(5)\n",
    "d.pushFront(2)\n",
    "d.remove(d.search(5))\n",
    "print(d.last(), d.first())"
   ]
  },
  {
   "cell_type": "code",
   "execution_count": 38,
   "metadata": {},
   "outputs": [
    {
     "data": {
      "text/plain": [
       "False"
      ]
     },
     "execution_count": 38,
     "metadata": {},
     "output_type": "execute_result"
    }
   ],
   "source": [
    "d.isEmpty()"
   ]
  },
  {
   "cell_type": "code",
   "execution_count": null,
   "metadata": {},
   "outputs": [],
   "source": [
    "d1 = DoublyLinkedList()\n",
    "def josephus(n, k):\n",
    "\tfor i in range(n):\n",
    "\t\td1.pushBack(i+1)\n",
    "\ti = 1\n",
    "\twhile len(d1) > 0:\n",
    "\t\tif i % k == 0:\n",
    "\t\t\td1.\n"
   ]
  }
 ],
 "metadata": {
  "interpreter": {
   "hash": "b9462065c57840b7782c4e300c462d9ecab3fd8522d405e1a2c04227d3310cf2"
  },
  "kernelspec": {
   "display_name": "Python 3.8.11 ('ds_study')",
   "language": "python",
   "name": "python3"
  },
  "language_info": {
   "codemirror_mode": {
    "name": "ipython",
    "version": 3
   },
   "file_extension": ".py",
   "mimetype": "text/x-python",
   "name": "python",
   "nbconvert_exporter": "python",
   "pygments_lexer": "ipython3",
   "version": "3.8.11"
  },
  "orig_nbformat": 4
 },
 "nbformat": 4,
 "nbformat_minor": 2
}
