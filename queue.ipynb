{
 "cells": [
  {
   "cell_type": "code",
   "execution_count": 4,
   "metadata": {},
   "outputs": [],
   "source": [
    "class Queue:\n",
    "\tdef __init__(self):\n",
    "\t\tself.items = []\n",
    "\t\tself.front_index = 0\n",
    "\t\n",
    "\tdef enqueue(self, val):\n",
    "\t\tself.items.append(val)\n",
    "\t\n",
    "\tdef dequeue(self):\n",
    "\t\tif self.front_index == len(self.items):\n",
    "\t\t\tprint(\"Queue is empty\")\n",
    "\t\telse:\n",
    "\t\t\tx = self.items[self.front_index]\n",
    "\t\t\tself.front_index += 1\n",
    "\t\t\treturn x\n",
    "\n",
    "\tdef __len__(self):\n",
    "\t\treturn len(self.items) - self.front_index"
   ]
  },
  {
   "cell_type": "code",
   "execution_count": 9,
   "metadata": {},
   "outputs": [],
   "source": [
    "def josephus(n, k):\n",
    "\tq = Queue()\n",
    "\tfor i in range(n):\n",
    "\t\tq.enqueue(i)\n",
    "\ti = 1\n",
    "\twhile len(q) > 1:\n",
    "\t\tif i % k == 0:\n",
    "\t\t\tq.dequeue()\n",
    "\t\telse:\n",
    "\t\t\ta = q.dequeue()\n",
    "\t\t\tq.enqueue(a)\n",
    "\t\ti += 1\n",
    "\treturn q.dequeue() + 1\n",
    "\n"
   ]
  },
  {
   "cell_type": "code",
   "execution_count": 12,
   "metadata": {},
   "outputs": [
    {
     "data": {
      "text/plain": [
       "5"
      ]
     },
     "execution_count": 12,
     "metadata": {},
     "output_type": "execute_result"
    }
   ],
   "source": [
    "josephus(6, 2)"
   ]
  },
  {
   "cell_type": "code",
   "execution_count": null,
   "metadata": {},
   "outputs": [],
   "source": []
  }
 ],
 "metadata": {
  "interpreter": {
   "hash": "b9462065c57840b7782c4e300c462d9ecab3fd8522d405e1a2c04227d3310cf2"
  },
  "kernelspec": {
   "display_name": "Python 3.8.11 ('ds_study')",
   "language": "python",
   "name": "python3"
  },
  "language_info": {
   "codemirror_mode": {
    "name": "ipython",
    "version": 3
   },
   "file_extension": ".py",
   "mimetype": "text/x-python",
   "name": "python",
   "nbconvert_exporter": "python",
   "pygments_lexer": "ipython3",
   "version": "3.8.11"
  },
  "orig_nbformat": 4
 },
 "nbformat": 4,
 "nbformat_minor": 2
}
